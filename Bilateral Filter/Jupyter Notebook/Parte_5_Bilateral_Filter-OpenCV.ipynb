{
  "nbformat": 4,
  "nbformat_minor": 0,
  "metadata": {
    "colab": {
      "name": "Parte_5-Bilateral_FilterOpenCV.ipynb",
      "provenance": [],
      "collapsed_sections": []
    },
    "kernelspec": {
      "name": "python3",
      "display_name": "Python 3"
    },
    "language_info": {
      "name": "python"
    }
  },
  "cells": [
    {
      "cell_type": "code",
      "source": [
        "import cv2\n",
        "import numpy as np\n",
        "from google.colab.patches import cv2_imshow"
      ],
      "metadata": {
        "id": "UZI6WynbX5gZ"
      },
      "execution_count": null,
      "outputs": []
    },
    {
      "cell_type": "code",
      "source": [
        "noisy_imgs = {\n",
        "    'fairy-meadows': cv2.imread('fairy-meadows-noisy.png'), \n",
        "    'noir': cv2.imread('noir-noisy.png'),\n",
        "    'rosso': cv2.imread('rosso-noisy'),\n",
        "    'sky': cv2.imread('sky-noisy.png')\n",
        "}"
      ],
      "metadata": {
        "id": "okYxN9WJYAPz"
      },
      "execution_count": null,
      "outputs": []
    },
    {
      "cell_type": "code",
      "source": [
        "def apply_bilateral_filter (img_name, neigh_size = 15, intensity_rate = 1, distance_rate = 1):\n",
        "  bilateral = cv2.bilateralFilter(noisy_imgs[img_name], neigh_size, intensity_rate, distance_rate)\n",
        "  images_stack = np.hstack((noisy_imgs[img_name], bilateral))\n",
        "  cv2_imshow(images_stack)\n",
        "  return bilateral"
      ],
      "metadata": {
        "id": "T_kBvQ65YC10"
      },
      "execution_count": null,
      "outputs": []
    },
    {
      "cell_type": "markdown",
      "source": [
        "# Parte 5 - Alguns parâmetros que otimizam a qualidade das imagens - diminuindo o ruído e preservando as bordas"
      ],
      "metadata": {
        "id": "uw8IEhutX0TK"
      }
    },
    {
      "cell_type": "code",
      "execution_count": null,
      "metadata": {
        "id": "4iLT5lbCs1S4",
        "colab": {
          "base_uri": "https://localhost:8080/",
          "height": 695
        },
        "outputId": "aaa8c0a4-b36f-4261-ca17-ceab70d37be5"
      },
      "outputs": [],
      "source": [
        "apply_bilateral_filter('fairy-meadows', neigh_size = 50, intensity_rate = 50, distance_rate = 80);"
      ]
    },
    {
      "cell_type": "code",
      "source": [
        "apply_bilateral_filter('noir', neigh_size = 15, intensity_rate = 50, distance_rate = 80);"
      ],
      "metadata": {
        "colab": {
          "base_uri": "https://localhost:8080/",
          "height": 622
        },
        "id": "0aKLdXCNnFb4",
        "outputId": "1f80d8a3-1d63-4752-dec0-235a71c7d2c4"
      },
      "execution_count": null,
      "outputs": []
    },
    {
      "cell_type": "code",
      "source": [
        "apply_bilateral_filter('rosso', neigh_size = 50, intensity_rate = 50, distance_rate = 80);"
      ],
      "metadata": {
        "colab": {
          "base_uri": "https://localhost:8080/",
          "height": 485
        },
        "id": "ouwBQMLPnJ0l",
        "outputId": "11826535-89de-41dc-f5c5-47ded3d2256b"
      },
      "execution_count": null,
      "outputs": []
    },
    {
      "cell_type": "code",
      "source": [
        "apply_bilateral_filter('sky', neigh_size = 50, intensity_rate = 50, distance_rate = 80);"
      ],
      "metadata": {
        "colab": {
          "base_uri": "https://localhost:8080/",
          "height": 438
        },
        "id": "AuGGjbRwnNX-",
        "outputId": "60c6ab90-1091-4dc9-aead-8660c5f69433"
      },
      "execution_count": null,
      "outputs": []
    }
  ]
}